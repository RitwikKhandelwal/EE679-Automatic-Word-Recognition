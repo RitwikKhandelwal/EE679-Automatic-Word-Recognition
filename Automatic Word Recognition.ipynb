{
 "cells": [
  {
   "cell_type": "markdown",
   "metadata": {},
   "source": [
    "# EE679 Speech Processing: Instructor Prof: Preeti Rao"
   ]
  },
  {
   "cell_type": "markdown",
   "metadata": {},
   "source": [
    "# Automatic Word Recognition"
   ]
  },
  {
   "cell_type": "markdown",
   "metadata": {},
   "source": [
    "# Ritwik Khandelwal 18d070061"
   ]
  },
  {
   "cell_type": "markdown",
   "metadata": {},
   "source": [
    "## Description of method along code and results"
   ]
  },
  {
   "cell_type": "markdown",
   "metadata": {},
   "source": [
    "### First we carry out speech end-pointing"
   ]
  },
  {
   "cell_type": "code",
   "execution_count": 40,
   "metadata": {},
   "outputs": [],
   "source": [
    "#Importing Libraries\n",
    "import numpy as np\n",
    "from matplotlib import pyplot as plt\n",
    "from  matplotlib import patches\n",
    "from matplotlib.figure import Figure\n",
    "from matplotlib.pyplot import figure\n",
    "from matplotlib import rcParams\n",
    "import math\n",
    "import cmath\n",
    "from scipy.io.wavfile import write\n",
    "from scipy.io import wavfile as wav\n",
    "import scipy.misc\n",
    "from scipy.io.wavfile import read\n",
    "from IPython.display import Audio\n",
    "import librosa\n",
    "import os\n",
    "import pickle\n",
    "import hmmlearn\n",
    "import itertools\n",
    "from hmmlearn import hmm\n",
    "from sklearn.metrics import classification_report, confusion_matrix, accuracy_score\n",
    "import soundfile as sf"
   ]
  },
  {
   "cell_type": "markdown",
   "metadata": {},
   "source": [
    "For speech end-pointing, we do by windowing the input audio signals into 20ms width frames. Then, we measure energy of each window frame. Starting from beginning, a starting point is decided as that first frame which has energy greater than 0.005 (decided by observation). Subsequently, end frame is decided by that first frame (after start frame) which has energy less than 0.00001 (decided by observation). We observed there is some silence in the input signal just some frames after the starting frame, which is wrongly selected as end frame. To tackle that, we adjust the code, such that start and stop frames very close to one another don't get selected, this is done by setting a threshold on the number of frames between starting and end frame. (If there are less than a certain, in this case 50, frames between starting and end frame, then the end frame is chosen to be the last frame of the signal.) "
   ]
  },
  {
   "cell_type": "code",
   "execution_count": 41,
   "metadata": {},
   "outputs": [],
   "source": [
    "def identify_end_points(filepath):    \n",
    "    #20ms window length chosen\n",
    "    j = 0\n",
    "    temp,serial = librosa.load(filepath)\n",
    "    sliced = []\n",
    "    i = np.int(len(temp))\n",
    "    \n",
    "    while j<= (i/160)-2:\n",
    "        m = temp[j*160 : (j+2)*160]\n",
    "        sliced.append(m)\n",
    "        j = j+1\n",
    "\n",
    "    #Finding starting point\n",
    "    start =0 \n",
    "    iter_l = 0\n",
    "    bool_noise = 1 \n",
    "    updated = 0\n",
    "    end = len(sliced)-1\n",
    "\n",
    "    while iter_l<(len(sliced)):\n",
    "        \n",
    "        h = np.hamming(320) #320 = 16*20 \n",
    "        energy = np.matmul(sliced[iter_l]*h,sliced[iter_l]*h)\n",
    "        \n",
    "        # start point selection\n",
    "        if(energy > 0.005):\n",
    "            if(bool_noise == 1):\n",
    "                bool_noise = 0\n",
    "                if updated == 0:\n",
    "                    updated = 1\n",
    "                    start = iter_l\n",
    "                    \n",
    "        #end point selection \n",
    "        if(energy < 0.00001 and bool_noise == 0):\n",
    "            bool_noise = 1\n",
    "            end = iter_l\n",
    "        iter_l = iter_l+1\n",
    "\n",
    "    d = end-start\n",
    "    if d < 50:\n",
    "        end = len(sliced)-1\n",
    "    end_pointed = np.array(temp[(start*160):((end+2)*160)])\n",
    "    \n",
    "    return end_pointed,serial"
   ]
  },
  {
   "cell_type": "code",
   "execution_count": 42,
   "metadata": {},
   "outputs": [],
   "source": [
    "## Identifying end points for all files\n",
    "\n",
    "os.listdir('Commands_Dataset/train')\n",
    "\n",
    "for word in os.listdir('Commands_Dataset/train'): \n",
    "    #print(word)\n",
    "    for sample in os.listdir('Commands_Dataset/train/'+ word): \n",
    "        # print(word, sample)\n",
    "        end_points , samp = identify_end_points('Commands_Dataset/train/'+ word + '/' + sample)\n",
    "        if np.int(len(end_points)) >10000 :\n",
    "            sf.write('Commands_Dataset/train_end_points/'+ word + '/' + sample, end_points, samp)\n"
   ]
  },
  {
   "cell_type": "markdown",
   "metadata": {},
   "source": [
    "### Next we carry out pre-emphasis and MFCC feature extraction"
   ]
  },
  {
   "cell_type": "code",
   "execution_count": 43,
   "metadata": {},
   "outputs": [],
   "source": [
    "## Applying Pre-Emphasis\n",
    "\n",
    "def pre_emphasis(filepath):\n",
    "    \n",
    "    high_passed_output = []\n",
    "    input_temp,serial= librosa.load(filepath)\n",
    "    high_passed_output.append(np.float(input_temp[0]))\n",
    "    \n",
    "    iter_i = 1\n",
    "    while iter_i< np.int(len(input_temp)):\n",
    "        temp = np.float(input_temp[iter_i]-0.95*input_temp[iter_i-1])\n",
    "        high_passed_output.append(temp)\n",
    "        iter_i = iter_i+1\n",
    "        \n",
    "    return high_passed_output,serial\n",
    "\n",
    "\n",
    "\n",
    "os.listdir('Commands_Dataset/train_end_points')\n",
    "\n",
    "for word in os.listdir('Commands_Dataset/train_end_points'): \n",
    "    #print(word)\n",
    "    for sample in os.listdir('Commands_Dataset/train_end_points/'+ word): \n",
    "        #print(word, sample)\n",
    "        pre_emph, samp = pre_emphasis('Commands_Dataset/train_end_points/'+ word + '/' + sample)\n",
    "        sf.write('Commands_Dataset/train_pre_emphasis/'+ word + '/' + sample, pre_emph, samp)\n",
    "    "
   ]
  },
  {
   "cell_type": "markdown",
   "metadata": {},
   "source": [
    "We use pre-emphasis just as we did for the previous assignment, we choose alpha = 0.95"
   ]
  },
  {
   "cell_type": "code",
   "execution_count": 44,
   "metadata": {},
   "outputs": [],
   "source": [
    "## MFCC Feature Extraction\n",
    "\n",
    "#Using librosa library mfcc feature extraction function\n",
    "def mfcc(filepath):\n",
    "    temp ,samp = librosa.load(filepath)\n",
    "    #mfcc, delta1, delta2\n",
    "    mfcc_feature = librosa.feature.mfcc(y=temp, sr=samp, n_mfcc=13 ,S=None, dct_type=2, norm='ortho')\n",
    "    mfcc_delta1 = librosa.feature.delta(mfcc_feature,order=1, mode = 'nearest')\n",
    "    mfcc_delta2 = librosa.feature.delta(mfcc_feature,order=2, mode = 'nearest')\n",
    "\n",
    "    mfcc_features = np.concatenate((mfcc_feature, mfcc_delta1 , mfcc_delta2 ), axis=0)\n",
    "    \n",
    "    return mfcc_features "
   ]
  },
  {
   "cell_type": "code",
   "execution_count": 45,
   "metadata": {},
   "outputs": [],
   "source": [
    "## Loading Training Data \n",
    "\n",
    "training = {}  #training dict\n",
    "for word in os.listdir('Commands_Dataset/train_pre_emphasis'):\n",
    "    for sample in os.listdir('Commands_Dataset/train_pre_emphasis/'+word):\n",
    "        actual_word = word\n",
    "        p = 'Commands_Dataset/train_pre_emphasis/'+word + '/' + sample\n",
    "        #print(p)\n",
    "        sample_mfcc = mfcc(p).T\n",
    "        \n",
    "        #filling training dict\n",
    "        if actual_word not in training.keys():\n",
    "            training[actual_word] = []\n",
    "            training[actual_word].append(sample_mfcc)\n",
    "        else:\n",
    "            temp = training[actual_word]\n",
    "            temp.append(sample_mfcc)\n",
    "            training[actual_word] = temp\n",
    "\n",
    "\n",
    "## Saving training data\n",
    "\n",
    "with open(\"training_pre_emphasis_noisy.pkl\", \"wb\") as file:\n",
    "    pickle.dump(training , file)"
   ]
  },
  {
   "cell_type": "code",
   "execution_count": 46,
   "metadata": {},
   "outputs": [],
   "source": [
    "def pre_emphasis_file(filesignal):\n",
    "    high_passed_output = []\n",
    "    iter_i = 1\n",
    "    input_temp = filesignal\n",
    "    high_passed_output.append(np.float(input_temp[0]))\n",
    "    while iter_i< np.int(len(input_temp)):\n",
    "        temp = np.float(input_temp[iter_i]-0.95*input_temp[iter_i-1])\n",
    "        high_passed_output.append(temp)\n",
    "        iter_i = iter_i+1\n",
    "    return high_passed_output\n",
    "\n",
    "def mfcc_file(filesignal,sam):\n",
    "    temp = np.array(filesignal)\n",
    "    samp = sam\n",
    "    #mfcc, delta1, delta2\n",
    "    mfcc_feature = librosa.feature.mfcc(y=temp, sr=samp, n_mfcc=13 ,S=None, dct_type=2, norm='ortho')\n",
    "    mfcc_delta = librosa.feature.delta(mfcc_feature,order=1, mode = 'nearest')\n",
    "    mfcc_delta2 = librosa.feature.delta(mfcc_feature,order=2, mode = 'nearest')\n",
    "    mfcc_features = np.concatenate((mfcc_feature, mfcc_delta , mfcc_delta2 ), axis=0)\n",
    "    \n",
    "    return mfcc_features "
   ]
  },
  {
   "cell_type": "code",
   "execution_count": 47,
   "metadata": {},
   "outputs": [],
   "source": [
    "## Task A testing data \n",
    "\n",
    "testing_task_a_clean = {}\n",
    "for word in os.listdir('Commands_Dataset/test_clean'):\n",
    "    for sample in os.listdir('Commands_Dataset/test_clean/'+word):\n",
    "        actual_word = word\n",
    "        p = 'Commands_Dataset/test_clean/'+word + '/' + sample\n",
    "        endpoints, sa  = identify_end_points(p)\n",
    "        pre_empf = pre_emphasis_file(endpoints)  \n",
    "        sample_mfcc = mfcc_file(pre_empf,sa).T\n",
    "        \n",
    "        if actual_word not in testing_task_a_clean.keys():\n",
    "            testing_task_a_clean[actual_word] = []\n",
    "            testing_task_a_clean[actual_word].append(sample_mfcc)\n",
    "        else:\n",
    "            temp = testing_task_a_clean[actual_word]\n",
    "            temp.append(sample_mfcc)\n",
    "            testing_task_a_clean[actual_word] = temp\n",
    "\n",
    "#print('testing A data created')\n",
    "with open(\"testA.pkl\", \"wb\") as file:\n",
    "    pickle.dump(testing_task_a_clean , file)\n"
   ]
  },
  {
   "cell_type": "code",
   "execution_count": 48,
   "metadata": {},
   "outputs": [],
   "source": [
    "## Task B testing data\n",
    "testing_task_b_noisy = {}\n",
    "for word in os.listdir('Commands_Dataset/test_noisy'):\n",
    "    for sample in os.listdir('Commands_Dataset/test_noisy/'+word):\n",
    "        actual_word = word\n",
    "        p = 'Commands_Dataset/test_noisy/'+word + '/' + sample\n",
    "        endpoints, sa  = identify_end_points(p)\n",
    "        pre_empf = pre_emphasis_file(endpoints)  \n",
    "        sample_mfcc = mfcc_file(pre_empf,sa).T\n",
    "\n",
    "        if actual_word not in testing_task_b_noisy.keys():\n",
    "            testing_task_b_noisy[actual_word] = []\n",
    "            testing_task_b_noisy[actual_word].append(sample_mfcc)\n",
    "        else:\n",
    "            temp = testing_task_b_noisy[actual_word]\n",
    "            temp.append(sample_mfcc)\n",
    "            testing_task_b_noisy[actual_word] = temp\n",
    "\n",
    "#print('testing B data created')\n",
    "with open(\"testB.pkl\", \"wb\") as file:\n",
    "    pickle.dump(testing_task_b_noisy , file)\n",
    "\n",
    "\n",
    "training_data_file  =  open('training_pre_emphasis_noisy.pkl', 'rb')\n",
    "training = pickle.load(training_data_file)\n",
    "training_data_file.close()"
   ]
  },
  {
   "cell_type": "markdown",
   "metadata": {},
   "source": [
    "### Using statistical method of GMM-HMM"
   ]
  },
  {
   "cell_type": "code",
   "execution_count": 49,
   "metadata": {},
   "outputs": [],
   "source": [
    "## Using hmmlearn\n",
    "trained_model = {}\n",
    "hmm_states = 6 #Trial and error\n",
    "\n",
    "for actual_word in training.keys():\n",
    "\n",
    "    model = hmm.GaussianHMM(n_components = hmm_states, covariance_type='full', n_iter=5)\n",
    "    #print(actual_word)\n",
    "    training_batch = training[actual_word]\n",
    "    # print(training_batch)\n",
    "    u = np.zeros([len(training_batch),] ,dtype=np.int)\n",
    "\n",
    "    temp_length = np.int(len(training_batch))\n",
    "    for q in range(temp_length):\n",
    "        u[q] = training_batch[q].shape[0]\n",
    "    \n",
    "    training_batch = np.vstack(training_batch)\n",
    "    #To fit the model, using pre-defined function\n",
    "    model.fit(training_batch, lengths=u)\n",
    "    \n",
    "    trained_model[actual_word] = model\n",
    "\n",
    "## Saving Model\n",
    "\n",
    "with open(\"trained_model.pkl\", \"wb\") as file:\n",
    "    pickle.dump(trained_model, file)"
   ]
  },
  {
   "cell_type": "markdown",
   "metadata": {},
   "source": [
    "Here we use class hmmlearn.hmm.GaussianHMM from hmmlearn. By trial and error we select the number of states and to reduce time we keep number of iterations to 5."
   ]
  },
  {
   "cell_type": "code",
   "execution_count": 50,
   "metadata": {},
   "outputs": [],
   "source": [
    "## Confusion matrix creation\n",
    "\n",
    "testA_model_file  =  open('testA.pkl', 'rb')\n",
    "testing_A_clean = pickle.load(testA_model_file)\n",
    "testA_model_file.close()\n",
    "\n",
    "testB_model_file  =  open('testB.pkl', 'rb')\n",
    "testing_B_noisy = pickle.load(testB_model_file)\n",
    "testB_model_file.close()\n",
    "\n",
    "hmm_model_file  =  open('trained_model.pkl', 'rb')\n",
    "trained_model_hmm = pickle.load(hmm_model_file)\n",
    "hmm_model_file.close()"
   ]
  },
  {
   "cell_type": "code",
   "execution_count": 51,
   "metadata": {},
   "outputs": [],
   "source": [
    "## Extracting input features and output labels\n",
    "\n",
    "# Task A Clean\n",
    "x_testA = []\n",
    "y_testA = []\n",
    "for a in testing_A_clean.keys():\n",
    "    features = testing_A_clean[a]\n",
    "    temp = np.int(len(features))\n",
    "    for t in range(temp):\n",
    "        y_testA.append(a)\n",
    "        x_testA.append(features[t])\n",
    "\n",
    "# Task B Noisy\n",
    "x_testB = []\n",
    "y_testB = []\n",
    "for a in testing_B_noisy.keys():\n",
    "    features = testing_B_noisy[a]\n",
    "    temp = np.int(len(features))\n",
    "    for t in range(temp):\n",
    "        y_testB.append(a)\n",
    "        x_testB.append(features[t])"
   ]
  },
  {
   "cell_type": "code",
   "execution_count": 52,
   "metadata": {},
   "outputs": [],
   "source": [
    "## Prediction Function for given input and trained model\n",
    "\n",
    "def prediction(test_data, trained):\n",
    "    score_values = [] \n",
    "    words = []\n",
    "    pred_label = []\n",
    "    \n",
    "    for k in trained.keys():\n",
    "        score_values.append(trained[k].score(test_data))\n",
    "        words.append(k)\n",
    "    pred_label.append(score_values.index(max(score_values)))\n",
    "    \n",
    "    return words[pred_label[0]]\n",
    "\n",
    "\n",
    "pred_testA = []\n",
    "pred_testB = []\n",
    "#pred_train = []\n",
    "total_test = 0\n",
    "\n",
    "for i in range(len(x_testA)):\n",
    "  y_pred = prediction(x_testA[i],trained_model_hmm )\n",
    "  if y_pred == y_testA[i]:\n",
    "      total_test = total_test+ 1\n",
    "  pred_testA.append(y_pred)\n",
    "\n",
    "#pred_train = []\n",
    "total_test = 0\n",
    "\n",
    "for i in range(len(x_testB)):\n",
    "  y_pred = prediction(x_testB[i],trained_model_hmm )\n",
    "  if y_pred == y_testB[i]:\n",
    "      total_test = total_test+ 1\n",
    "  pred_testB.append(y_pred)\n",
    "\n",
    "\n",
    "with open(\"predtestA.pkl\", \"wb\") as file:\n",
    "    pickle.dump(pred_testA, file)\n",
    "\n",
    "trained_model_file  =  open('predtestA.pkl', 'rb')\n",
    "pred_testA = pickle.load(trained_model_file)\n",
    "trained_model_file.close()\n",
    "\n",
    "with open(\"ytestA.pkl\", \"wb\") as file:\n",
    "    pickle.dump(y_testA, file)\n",
    "  \n",
    "trained_model_file  =  open('ytestA.pkl', 'rb')\n",
    "y_testA = pickle.load(trained_model_file)\n",
    "trained_model_file.close()\n",
    "\n",
    "with open(\"ytestB.pkl\", \"wb\") as file:\n",
    "    pickle.dump(y_testB, file)\n",
    "    \n",
    "trained_model_file  =  open('ytestB.pkl', 'rb')\n",
    "y_testB = pickle.load(trained_model_file)\n",
    "trained_model_file.close()\n",
    "\n",
    "with open(\"predtestB.pkl\", \"wb\") as file:\n",
    "    pickle.dump(pred_testB, file)\n",
    "\n",
    "trained_model_file  =  open('predtestB.pkl', 'rb')\n",
    "pred_testB = pickle.load(trained_model_file)\n",
    "trained_model_file.close()"
   ]
  },
  {
   "cell_type": "markdown",
   "metadata": {},
   "source": [
    "### Calculating accuracy for both tasks and plotting confusion matrix"
   ]
  },
  {
   "cell_type": "code",
   "execution_count": 56,
   "metadata": {
    "scrolled": false
   },
   "outputs": [
    {
     "name": "stdout",
     "output_type": "stream",
     "text": [
      "Accuracy for Task A =  86.7939228671601 %\n",
      "Accuracy for Task B =  61.51149201402415 %\n"
     ]
    },
    {
     "data": {
      "image/png": "[encoded data removed]",
      "text/plain": [
       "<Figure size 720x720 with 2 Axes>"
      ]
     },
     "metadata": {
      "needs_background": "light"
     },
     "output_type": "display_data"
    },
    {
     "data": {
      "image/png": "[encoded data removed]",
      "text/plain": [
       "<Figure size 720x720 with 2 Axes>"
      ]
     },
     "metadata": {
      "needs_background": "light"
     },
     "output_type": "display_data"
    }
   ],
   "source": [
    "classes = ['down', 'go', 'left', 'no', 'off', 'on', 'right', 'stop', 'up', 'yes']\n",
    "\n",
    "#Task A\n",
    "confusionmatrix = confusion_matrix(y_testA, pred_testA)\n",
    "sum_diag_cm = sum(np.diag(confusionmatrix))\n",
    "sum_cm = sum(sum(confusionmatrix))\n",
    "acc = 0.0\n",
    "acc = sum_diag_cm/sum_cm\n",
    "print('Accuracy for Task A = ',acc*100,'%')\n",
    "\n",
    "plt.figure(figsize=(10,10))\n",
    "cmap=plt.cm.Reds\n",
    "plt.imshow(confusionmatrix, interpolation='nearest', cmap=cmap)\n",
    "plt.title('Confusion Matrix for Task A')\n",
    "plt.ylabel('Actual True label')\n",
    "plt.xlabel('Predicted label')\n",
    "plt.colorbar()\n",
    "tick_marks = np.arange(len(classes))\n",
    "plt.yticks(tick_marks, classes)\n",
    "plt.xticks(tick_marks, classes)\n",
    "level = (confusionmatrix.max())/2\n",
    "r_start = confusionmatrix.shape[0]\n",
    "r_end = confusionmatrix.shape[1]\n",
    "for iter_i, iter_j in itertools.product(range(r_start), range(r_end)):\n",
    "    plt.text(iter_j, iter_i, format(confusionmatrix[iter_i, iter_j],'d'),color=\"white\" if confusionmatrix[iter_i, iter_j] > level else \"black\")\n",
    "\n",
    "#Task B\n",
    "confusionmatrix = confusion_matrix(y_testB, pred_testB)\n",
    "sum_diag_cm = sum(np.diag(confusionmatrix))\n",
    "sum_cm = sum(sum(confusionmatrix))\n",
    "acc = 0.0\n",
    "acc = sum_diag_cm/sum_cm\n",
    "print('Accuracy for Task B = ',acc*100,'%')\n",
    "\n",
    "plt.figure(figsize=(10,10))\n",
    "plt.imshow(confusionmatrix, interpolation='nearest', cmap=cmap)\n",
    "plt.title('Confusion matrix for Task B')\n",
    "plt.ylabel('Actual True label')\n",
    "plt.xlabel('Predicted label')\n",
    "plt.colorbar()\n",
    "tick_marks = np.arange(len(classes))\n",
    "plt.xticks(tick_marks, classes)\n",
    "plt.yticks(tick_marks, classes)\n",
    "level = (confusionmatrix.max())/2\n",
    "r_start = confusionmatrix.shape[0]\n",
    "r_end = confusionmatrix.shape[1]\n",
    "for iter_i, iter_j in itertools.product(range(r_start), range(r_end)):\n",
    "    plt.text(iter_j, iter_i, format(confusionmatrix[iter_i, iter_j],'d'),color=\"white\" if confusionmatrix[iter_i, iter_j] > level else \"black\")\n",
    "plt.show()"
   ]
  },
  {
   "cell_type": "markdown",
   "metadata": {},
   "source": [
    "We observe that accuracy for Task A comes out to be around 86.7%, while that of Task B comes out to be around 61.5%. Also in the confusion matrix we observe that for Task A, the classes 'go' and 'no' are mistaken for one another, which is also the case in real life as these sounds sound similar. Other than this, the model works good in Task A. Now, for task B, the confusion matrix shows that a lot of errors are there. Most strikingly, we see that a lot of samples are classified as 'off'. This could be because the fricative nature of the 'off' sound has some resemblence with the noise that is added in this test. We can make a similar argument for 'yes' sound. Overall, we see that there is a lot of scope of improvement. Even simple things like increasing number of training iterations can be helpful. I didn't increase number of iterations as the current code takes hours to run and so I didn't have time to increase this number of iterations further."
   ]
  },
  {
   "cell_type": "code",
   "execution_count": null,
   "metadata": {},
   "outputs": [],
   "source": []
  },
  {
   "cell_type": "code",
   "execution_count": null,
   "metadata": {},
   "outputs": [],
   "source": []
  }
 ],
 "metadata": {
  "kernelspec": {
   "display_name": "Python 3",
   "language": "python",
   "name": "python3"
  },
  "language_info": {
   "codemirror_mode": {
    "name": "ipython",
    "version": 3
   },
   "file_extension": ".py",
   "mimetype": "text/x-python",
   "name": "python",
   "nbconvert_exporter": "python",
   "pygments_lexer": "ipython3",
   "version": "3.7.6"
  }
 },
 "nbformat": 4,
 "nbformat_minor": 4
}
